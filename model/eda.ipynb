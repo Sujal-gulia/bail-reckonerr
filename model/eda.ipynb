{
 "cells": [
  {
   "cell_type": "markdown",
   "metadata": {},
   "source": [
    "Importing libraries"
   ]
  },
  {
   "cell_type": "code",
   "execution_count": 31,
   "metadata": {},
   "outputs": [],
   "source": [
    "import numpy as np\n",
    "import pandas as pd\n",
    "import seaborn as sns\n",
    "import matplotlib.pyplot as plt\n",
    "%matplotlib inline\n",
    "import warnings\n",
    "warnings.filterwarnings('ignore')"
   ]
  },
  {
   "cell_type": "markdown",
   "metadata": {},
   "source": [
    "importing dataset"
   ]
  },
  {
   "cell_type": "code",
   "execution_count": 6,
   "metadata": {},
   "outputs": [
    {
     "data": {
      "text/plain": [
       "(500, 8)"
      ]
     },
     "execution_count": 6,
     "metadata": {},
     "output_type": "execute_result"
    }
   ],
   "source": [
    "df = pd.read_csv('SIH Bail Dec.  Dataset.csv')\n",
    "df.shape"
   ]
  },
  {
   "cell_type": "code",
   "execution_count": 7,
   "metadata": {},
   "outputs": [
    {
     "data": {
      "text/html": [
       "<div>\n",
       "<style scoped>\n",
       "    .dataframe tbody tr th:only-of-type {\n",
       "        vertical-align: middle;\n",
       "    }\n",
       "\n",
       "    .dataframe tbody tr th {\n",
       "        vertical-align: top;\n",
       "    }\n",
       "\n",
       "    .dataframe thead th {\n",
       "        text-align: right;\n",
       "    }\n",
       "</style>\n",
       "<table border=\"1\" class=\"dataframe\">\n",
       "  <thead>\n",
       "    <tr style=\"text-align: right;\">\n",
       "      <th></th>\n",
       "      <th>Type_of_Crime</th>\n",
       "      <th>Charges_Filed</th>\n",
       "      <th>Time_Served_Days</th>\n",
       "      <th>Prior_Criminal_History</th>\n",
       "      <th>Risk_of_Flight_Score</th>\n",
       "      <th>Influence_on_Trial</th>\n",
       "      <th>Bail_Decision</th>\n",
       "      <th>Socio_Economic_Background</th>\n",
       "    </tr>\n",
       "  </thead>\n",
       "  <tbody>\n",
       "    <tr>\n",
       "      <th>0</th>\n",
       "      <td>Violent</td>\n",
       "      <td>IPC 420</td>\n",
       "      <td>2549</td>\n",
       "      <td>1</td>\n",
       "      <td>0.639427</td>\n",
       "      <td>NaN</td>\n",
       "      <td>Granted</td>\n",
       "      <td>Middle</td>\n",
       "    </tr>\n",
       "    <tr>\n",
       "      <th>1</th>\n",
       "      <td>Non-violent</td>\n",
       "      <td>IPC 302</td>\n",
       "      <td>2188</td>\n",
       "      <td>0</td>\n",
       "      <td>0.025011</td>\n",
       "      <td>Low</td>\n",
       "      <td>Rejected</td>\n",
       "      <td>Upper</td>\n",
       "    </tr>\n",
       "    <tr>\n",
       "      <th>2</th>\n",
       "      <td>Violent</td>\n",
       "      <td>Economic Offences Act</td>\n",
       "      <td>111</td>\n",
       "      <td>1</td>\n",
       "      <td>0.275029</td>\n",
       "      <td>High</td>\n",
       "      <td>Granted</td>\n",
       "      <td>Upper</td>\n",
       "    </tr>\n",
       "    <tr>\n",
       "      <th>3</th>\n",
       "      <td>Cyber</td>\n",
       "      <td>IPC 420</td>\n",
       "      <td>1614</td>\n",
       "      <td>0</td>\n",
       "      <td>0.223211</td>\n",
       "      <td>High</td>\n",
       "      <td>Granted</td>\n",
       "      <td>Lower</td>\n",
       "    </tr>\n",
       "    <tr>\n",
       "      <th>4</th>\n",
       "      <td>Violent</td>\n",
       "      <td>Narcotic Drugs Act</td>\n",
       "      <td>2425</td>\n",
       "      <td>1</td>\n",
       "      <td>0.736471</td>\n",
       "      <td>High</td>\n",
       "      <td>Rejected</td>\n",
       "      <td>Lower</td>\n",
       "    </tr>\n",
       "  </tbody>\n",
       "</table>\n",
       "</div>"
      ],
      "text/plain": [
       "  Type_of_Crime          Charges_Filed  Time_Served_Days  \\\n",
       "0       Violent                IPC 420              2549   \n",
       "1   Non-violent                IPC 302              2188   \n",
       "2       Violent  Economic Offences Act               111   \n",
       "3         Cyber                IPC 420              1614   \n",
       "4       Violent     Narcotic Drugs Act              2425   \n",
       "\n",
       "   Prior_Criminal_History  Risk_of_Flight_Score Influence_on_Trial  \\\n",
       "0                       1              0.639427                NaN   \n",
       "1                       0              0.025011                Low   \n",
       "2                       1              0.275029               High   \n",
       "3                       0              0.223211               High   \n",
       "4                       1              0.736471               High   \n",
       "\n",
       "  Bail_Decision Socio_Economic_Background  \n",
       "0       Granted                    Middle  \n",
       "1      Rejected                     Upper  \n",
       "2       Granted                     Upper  \n",
       "3       Granted                     Lower  \n",
       "4      Rejected                     Lower  "
      ]
     },
     "execution_count": 7,
     "metadata": {},
     "output_type": "execute_result"
    }
   ],
   "source": [
    "df.head()"
   ]
  },
  {
   "cell_type": "code",
   "execution_count": 8,
   "metadata": {},
   "outputs": [
    {
     "data": {
      "text/plain": [
       "Type_of_Crime                  0\n",
       "Charges_Filed                  0\n",
       "Time_Served_Days               0\n",
       "Prior_Criminal_History         0\n",
       "Risk_of_Flight_Score           0\n",
       "Influence_on_Trial           142\n",
       "Bail_Decision                  0\n",
       "Socio_Economic_Background      0\n",
       "dtype: int64"
      ]
     },
     "execution_count": 8,
     "metadata": {},
     "output_type": "execute_result"
    }
   ],
   "source": [
    "df.isna().sum()"
   ]
  },
  {
   "cell_type": "markdown",
   "metadata": {},
   "source": [
    "There are 142 rows with no entry in Influence _on _Trial column, so to handle them I will fill the empty values with 'nit' means No_Influence_on_Trial."
   ]
  },
  {
   "cell_type": "code",
   "execution_count": 17,
   "metadata": {},
   "outputs": [],
   "source": [
    "df['Influence_on_Trial'].fillna('nit', inplace =True)"
   ]
  },
  {
   "cell_type": "code",
   "execution_count": 10,
   "metadata": {},
   "outputs": [
    {
     "data": {
      "text/plain": [
       "Type_of_Crime                0\n",
       "Charges_Filed                0\n",
       "Time_Served_Days             0\n",
       "Prior_Criminal_History       0\n",
       "Risk_of_Flight_Score         0\n",
       "Influence_on_Trial           0\n",
       "Bail_Decision                0\n",
       "Socio_Economic_Background    0\n",
       "dtype: int64"
      ]
     },
     "execution_count": 10,
     "metadata": {},
     "output_type": "execute_result"
    }
   ],
   "source": [
    "df.isna().sum()"
   ]
  },
  {
   "cell_type": "markdown",
   "metadata": {},
   "source": [
    "Now no column have missing values, so we are good to go."
   ]
  },
  {
   "cell_type": "code",
   "execution_count": 11,
   "metadata": {},
   "outputs": [
    {
     "data": {
      "text/plain": [
       "np.int64(0)"
      ]
     },
     "execution_count": 11,
     "metadata": {},
     "output_type": "execute_result"
    }
   ],
   "source": [
    "df.duplicated().sum()"
   ]
  },
  {
   "cell_type": "markdown",
   "metadata": {},
   "source": [
    "There are no duplicate values in the data set"
   ]
  },
  {
   "cell_type": "code",
   "execution_count": 12,
   "metadata": {},
   "outputs": [
    {
     "name": "stdout",
     "output_type": "stream",
     "text": [
      "<class 'pandas.core.frame.DataFrame'>\n",
      "RangeIndex: 500 entries, 0 to 499\n",
      "Data columns (total 8 columns):\n",
      " #   Column                     Non-Null Count  Dtype  \n",
      "---  ------                     --------------  -----  \n",
      " 0   Type_of_Crime              500 non-null    object \n",
      " 1   Charges_Filed              500 non-null    object \n",
      " 2   Time_Served_Days           500 non-null    int64  \n",
      " 3   Prior_Criminal_History     500 non-null    int64  \n",
      " 4   Risk_of_Flight_Score       500 non-null    float64\n",
      " 5   Influence_on_Trial         500 non-null    object \n",
      " 6   Bail_Decision              500 non-null    object \n",
      " 7   Socio_Economic_Background  500 non-null    object \n",
      "dtypes: float64(1), int64(2), object(5)\n",
      "memory usage: 31.4+ KB\n"
     ]
    }
   ],
   "source": [
    "df.info()"
   ]
  },
  {
   "cell_type": "code",
   "execution_count": 13,
   "metadata": {},
   "outputs": [
    {
     "data": {
      "text/plain": [
       "Type_of_Crime                  6\n",
       "Charges_Filed                  7\n",
       "Time_Served_Days             478\n",
       "Prior_Criminal_History         2\n",
       "Risk_of_Flight_Score         500\n",
       "Influence_on_Trial             4\n",
       "Bail_Decision                  2\n",
       "Socio_Economic_Background      3\n",
       "dtype: int64"
      ]
     },
     "execution_count": 13,
     "metadata": {},
     "output_type": "execute_result"
    }
   ],
   "source": [
    "\n",
    "df.nunique()"
   ]
  },
  {
   "cell_type": "code",
   "execution_count": 14,
   "metadata": {},
   "outputs": [
    {
     "data": {
      "text/html": [
       "<div>\n",
       "<style scoped>\n",
       "    .dataframe tbody tr th:only-of-type {\n",
       "        vertical-align: middle;\n",
       "    }\n",
       "\n",
       "    .dataframe tbody tr th {\n",
       "        vertical-align: top;\n",
       "    }\n",
       "\n",
       "    .dataframe thead th {\n",
       "        text-align: right;\n",
       "    }\n",
       "</style>\n",
       "<table border=\"1\" class=\"dataframe\">\n",
       "  <thead>\n",
       "    <tr style=\"text-align: right;\">\n",
       "      <th></th>\n",
       "      <th>Time_Served_Days</th>\n",
       "      <th>Prior_Criminal_History</th>\n",
       "      <th>Risk_of_Flight_Score</th>\n",
       "    </tr>\n",
       "  </thead>\n",
       "  <tbody>\n",
       "    <tr>\n",
       "      <th>count</th>\n",
       "      <td>500.000000</td>\n",
       "      <td>500.000000</td>\n",
       "      <td>500.000000</td>\n",
       "    </tr>\n",
       "    <tr>\n",
       "      <th>mean</th>\n",
       "      <td>1816.934000</td>\n",
       "      <td>0.540000</td>\n",
       "      <td>0.501442</td>\n",
       "    </tr>\n",
       "    <tr>\n",
       "      <th>std</th>\n",
       "      <td>1025.724174</td>\n",
       "      <td>0.498897</td>\n",
       "      <td>0.291295</td>\n",
       "    </tr>\n",
       "    <tr>\n",
       "      <th>min</th>\n",
       "      <td>5.000000</td>\n",
       "      <td>0.000000</td>\n",
       "      <td>0.000406</td>\n",
       "    </tr>\n",
       "    <tr>\n",
       "      <th>25%</th>\n",
       "      <td>984.500000</td>\n",
       "      <td>0.000000</td>\n",
       "      <td>0.247087</td>\n",
       "    </tr>\n",
       "    <tr>\n",
       "      <th>50%</th>\n",
       "      <td>1846.500000</td>\n",
       "      <td>1.000000</td>\n",
       "      <td>0.503814</td>\n",
       "    </tr>\n",
       "    <tr>\n",
       "      <th>75%</th>\n",
       "      <td>2676.000000</td>\n",
       "      <td>1.000000</td>\n",
       "      <td>0.752267</td>\n",
       "    </tr>\n",
       "    <tr>\n",
       "      <th>max</th>\n",
       "      <td>3644.000000</td>\n",
       "      <td>1.000000</td>\n",
       "      <td>0.999282</td>\n",
       "    </tr>\n",
       "  </tbody>\n",
       "</table>\n",
       "</div>"
      ],
      "text/plain": [
       "       Time_Served_Days  Prior_Criminal_History  Risk_of_Flight_Score\n",
       "count        500.000000              500.000000            500.000000\n",
       "mean        1816.934000                0.540000              0.501442\n",
       "std         1025.724174                0.498897              0.291295\n",
       "min            5.000000                0.000000              0.000406\n",
       "25%          984.500000                0.000000              0.247087\n",
       "50%         1846.500000                1.000000              0.503814\n",
       "75%         2676.000000                1.000000              0.752267\n",
       "max         3644.000000                1.000000              0.999282"
      ]
     },
     "execution_count": 14,
     "metadata": {},
     "output_type": "execute_result"
    }
   ],
   "source": [
    "df.describe()"
   ]
  },
  {
   "cell_type": "code",
   "execution_count": 27,
   "metadata": {},
   "outputs": [
    {
     "data": {
      "text/html": [
       "<div>\n",
       "<style scoped>\n",
       "    .dataframe tbody tr th:only-of-type {\n",
       "        vertical-align: middle;\n",
       "    }\n",
       "\n",
       "    .dataframe tbody tr th {\n",
       "        vertical-align: top;\n",
       "    }\n",
       "\n",
       "    .dataframe thead th {\n",
       "        text-align: right;\n",
       "    }\n",
       "</style>\n",
       "<table border=\"1\" class=\"dataframe\">\n",
       "  <thead>\n",
       "    <tr style=\"text-align: right;\">\n",
       "      <th></th>\n",
       "      <th>Type_of_Crime</th>\n",
       "      <th>Charges_Filed</th>\n",
       "      <th>Time_Served_Days</th>\n",
       "      <th>Prior_Criminal_History</th>\n",
       "      <th>Risk_of_Flight_Score</th>\n",
       "      <th>Influence_on_Trial</th>\n",
       "      <th>Bail_Decision</th>\n",
       "      <th>Socio_Economic_Background</th>\n",
       "    </tr>\n",
       "  </thead>\n",
       "  <tbody>\n",
       "    <tr>\n",
       "      <th>0</th>\n",
       "      <td>Violent</td>\n",
       "      <td>IPC 420</td>\n",
       "      <td>2549</td>\n",
       "      <td>1</td>\n",
       "      <td>0.639427</td>\n",
       "      <td>nit</td>\n",
       "      <td>Granted</td>\n",
       "      <td>Middle</td>\n",
       "    </tr>\n",
       "    <tr>\n",
       "      <th>1</th>\n",
       "      <td>Non-violent</td>\n",
       "      <td>IPC 302</td>\n",
       "      <td>2188</td>\n",
       "      <td>0</td>\n",
       "      <td>0.025011</td>\n",
       "      <td>Low</td>\n",
       "      <td>Rejected</td>\n",
       "      <td>Upper</td>\n",
       "    </tr>\n",
       "    <tr>\n",
       "      <th>2</th>\n",
       "      <td>Violent</td>\n",
       "      <td>Economic Offences Act</td>\n",
       "      <td>111</td>\n",
       "      <td>1</td>\n",
       "      <td>0.275029</td>\n",
       "      <td>High</td>\n",
       "      <td>Granted</td>\n",
       "      <td>Upper</td>\n",
       "    </tr>\n",
       "    <tr>\n",
       "      <th>3</th>\n",
       "      <td>Cyber</td>\n",
       "      <td>IPC 420</td>\n",
       "      <td>1614</td>\n",
       "      <td>0</td>\n",
       "      <td>0.223211</td>\n",
       "      <td>High</td>\n",
       "      <td>Granted</td>\n",
       "      <td>Lower</td>\n",
       "    </tr>\n",
       "    <tr>\n",
       "      <th>4</th>\n",
       "      <td>Violent</td>\n",
       "      <td>Narcotic Drugs Act</td>\n",
       "      <td>2425</td>\n",
       "      <td>1</td>\n",
       "      <td>0.736471</td>\n",
       "      <td>High</td>\n",
       "      <td>Rejected</td>\n",
       "      <td>Lower</td>\n",
       "    </tr>\n",
       "  </tbody>\n",
       "</table>\n",
       "</div>"
      ],
      "text/plain": [
       "  Type_of_Crime          Charges_Filed  Time_Served_Days  \\\n",
       "0       Violent                IPC 420              2549   \n",
       "1   Non-violent                IPC 302              2188   \n",
       "2       Violent  Economic Offences Act               111   \n",
       "3         Cyber                IPC 420              1614   \n",
       "4       Violent     Narcotic Drugs Act              2425   \n",
       "\n",
       "   Prior_Criminal_History  Risk_of_Flight_Score Influence_on_Trial  \\\n",
       "0                       1              0.639427                nit   \n",
       "1                       0              0.025011                Low   \n",
       "2                       1              0.275029               High   \n",
       "3                       0              0.223211               High   \n",
       "4                       1              0.736471               High   \n",
       "\n",
       "  Bail_Decision Socio_Economic_Background  \n",
       "0       Granted                    Middle  \n",
       "1      Rejected                     Upper  \n",
       "2       Granted                     Upper  \n",
       "3       Granted                     Lower  \n",
       "4      Rejected                     Lower  "
      ]
     },
     "execution_count": 27,
     "metadata": {},
     "output_type": "execute_result"
    }
   ],
   "source": [
    "df.head()"
   ]
  },
  {
   "cell_type": "code",
   "execution_count": 19,
   "metadata": {},
   "outputs": [
    {
     "name": "stdout",
     "output_type": "stream",
     "text": [
      "Categories in 'Type_of_Crime' variable:      ['Violent' 'Non-violent' 'Cyber' 'White-collar' 'Economic' 'Drug-related']\n",
      "Categories in 'Charges_Filed' variable:   ['IPC 420' 'IPC 302' 'Economic Offences Act' 'Narcotic Drugs Act'\n",
      " 'IPC 307' 'IPC 376' 'Cyber Crimes Act']\n",
      "Categories in'parental level of education' Prior_Criminal_History: [1 0]\n",
      "Categories in 'Influence_on_Trial' variable:      ['nit' 'Low' 'High' 'Moderate']\n",
      "Categories in 'Bail_Decision' variable:      ['Granted' 'Rejected']\n",
      "Categories in 'Socio_Economic_Background' variable:      ['Middle' 'Upper' 'Lower']\n"
     ]
    }
   ],
   "source": [
    "print(\"Categories in 'Type_of_Crime' variable:     \",end=\" \" )\n",
    "print(df['Type_of_Crime'].unique())\n",
    "\n",
    "print(\"Categories in 'Charges_Filed' variable:  \",end=\" \")\n",
    "print(df['Charges_Filed'].unique())\n",
    "\n",
    "print(\"Categories in'parental level of education' Prior_Criminal_History:\",end=\" \" )\n",
    "print(df['Prior_Criminal_History'].unique())\n",
    "\n",
    "print(\"Categories in 'Influence_on_Trial' variable:     \",end=\" \" )\n",
    "print(df['Influence_on_Trial'].unique())\n",
    "\n",
    "print(\"Categories in 'Bail_Decision' variable:     \",end=\" \" )\n",
    "print(df['Bail_Decision'].unique())\n",
    "\n",
    "print(\"Categories in 'Socio_Economic_Background' variable:     \",end=\" \" )\n",
    "print(df['Socio_Economic_Background'].unique())"
   ]
  },
  {
   "cell_type": "code",
   "execution_count": 25,
   "metadata": {},
   "outputs": [
    {
     "name": "stdout",
     "output_type": "stream",
     "text": [
      "Numerical feature we have are: ['Time_Served_Days', 'Prior_Criminal_History', 'Risk_of_Flight_Score']\n",
      "\n",
      "Categorical features we have are: ['Type_of_Crime', 'Charges_Filed', 'Influence_on_Trial', 'Bail_Decision', 'Socio_Economic_Background']\n"
     ]
    }
   ],
   "source": [
    "numeric_feature  = [feature for feature in df.columns if df[feature].dtype!= 'O']\n",
    "categorical_feature = [feature for feature in df.columns if df[feature].dtype== 'O']\n",
    "print('Numerical feature we have are: {}'.format( numeric_feature))\n",
    "print('\\nCategorical features we have are: {}'.format (categorical_feature))"
   ]
  },
  {
   "cell_type": "code",
   "execution_count": 36,
   "metadata": {},
   "outputs": [],
   "source": [
    "df.to_csv('modified_bail_dataset.csv')"
   ]
  },
  {
   "cell_type": "markdown",
   "metadata": {},
   "source": [
    "Feature Wise Visualization"
   ]
  },
  {
   "cell_type": "markdown",
   "metadata": {},
   "source": [
    "Impact of Type_of_Crime on Bail_Decision"
   ]
  },
  {
   "cell_type": "code",
   "execution_count": 35,
   "metadata": {},
   "outputs": [
    {
     "data": {
      "text/plain": [
       "<pandas.core.groupby.generic.DataFrameGroupBy object at 0x0000017F4E96E150>"
      ]
     },
     "execution_count": 35,
     "metadata": {},
     "output_type": "execute_result"
    }
   ],
   "source": [
    "Type_of_Crime_group = df.groupby('Type_of_Crime')\n",
    "Type_of_Crime_group"
   ]
  },
  {
   "cell_type": "code",
   "execution_count": null,
   "metadata": {},
   "outputs": [],
   "source": [
    "plt.figure(figsize=(10,8))\n",
    "X=['Bail_Decision']\n",
    "\n"
   ]
  },
  {
   "cell_type": "code",
   "execution_count": null,
   "metadata": {},
   "outputs": [],
   "source": []
  },
  {
   "cell_type": "code",
   "execution_count": null,
   "metadata": {},
   "outputs": [],
   "source": []
  },
  {
   "cell_type": "code",
   "execution_count": null,
   "metadata": {},
   "outputs": [],
   "source": []
  }
 ],
 "metadata": {
  "kernelspec": {
   "display_name": "bail_model",
   "language": "python",
   "name": "python3"
  },
  "language_info": {
   "codemirror_mode": {
    "name": "ipython",
    "version": 3
   },
   "file_extension": ".py",
   "mimetype": "text/x-python",
   "name": "python",
   "nbconvert_exporter": "python",
   "pygments_lexer": "ipython3",
   "version": "3.12.3"
  }
 },
 "nbformat": 4,
 "nbformat_minor": 2
}
